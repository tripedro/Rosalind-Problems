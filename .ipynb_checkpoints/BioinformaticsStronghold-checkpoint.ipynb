{
 "cells": [
  {
   "cell_type": "markdown",
   "id": "c97cc8fd",
   "metadata": {},
   "source": [
    "# Rosalind Stronghold Practice Problems"
   ]
  },
  {
   "cell_type": "markdown",
   "id": "745fe4a7",
   "metadata": {},
   "source": [
    "## Problem #1: [Counting DNA Nucleotides](https://rosalind.info/problems/dna/)"
   ]
  },
  {
   "cell_type": "code",
   "execution_count": 3,
   "id": "49054de2",
   "metadata": {},
   "outputs": [
    {
     "name": "stdout",
     "output_type": "stream",
     "text": [
      "235 247 230 241\n"
     ]
    }
   ],
   "source": [
    "# Sample Dataset -> AGCTTTTCATTCTGACTGCAACGGGCAATATGTCTCTGTGTGGATTAAAAAAAGAGTGTCTGATAGCAGC\n",
    "# Sample Output -> 20 12 17 21\n",
    "\n",
    "file = open('./Problem#1_dataSet.txt', 'r')\n",
    "dnaData = file.read()\n",
    "print(dnaData.count(\"A\"), dnaData.count(\"G\"), dnaData.count(\"C\"), dnaData.count(\"T\"))"
   ]
  },
  {
   "cell_type": "markdown",
   "id": "eea21d5c",
   "metadata": {},
   "source": [
    "## Problem #2: [Transcribing DNA into RNA](https://rosalind.info/problems/rna/)"
   ]
  },
  {
   "cell_type": "code",
   "execution_count": 9,
   "id": "6822aab0",
   "metadata": {},
   "outputs": [
    {
     "name": "stdout",
     "output_type": "stream",
     "text": [
      "AGGUCCUGGAGACGCAGAAGUCCGAUCUUAGAAGCGUACACCGCUGGUAUAUCAGGCCGUCGGUACUCAGGCUAAAGGACUAUAAUGUCGCUUGCCGAUAAUCUACGUGACCUGUAGGGACACUACGAGUUAGAAUUAGUCCGUAGUUCCCACCAUACAGCAAUCUAUGUCGUUAAAAGCGAGAUACCAGGCAUUUAUGAGACGUUGGGCACGUUCGUUCUUGCUGUCUUGGCGAAAAUAACUUUCGAUGGGAAGCUCAGCGCCGGCCCACCUAUUACGCAUCUCGCUUGUGAUUUUCUCAGAGUUGUAACAGACCUCUGACGUGCUAAGCCCAGAAUUAACCGCCAGUUGAGCGAUAACUGUGAGCACGCUCCAGAGGGUUGCGGUUUAAACGUCCUUUAGGAGACGCUCCACACGCAAGAAUUUUCGUGGAUGUUAGAUCGCAGCUCUUUCAGUUCGUUUACUCGUAAGAUGGAGGGACCACCUCUAGUCCCAAUACCCUUCAAUUCUAGCCGAAUAAACACUGCCCGGAGAGAAGUACCAAUCUCACCGGAUUCGGGGCGUACGUACACUCAGAGACUAGGAGGGAGACCACACCUGGGGCCGUCGCAGAGAGUGGUUGUUCCGAGAAUACGAAAUCAAAGUGGCCCCUCGACGUGUCCGAAUGAAACUGGGUGAGGGGUUUCACUAAGCAUAGCCUAGCCAUAAUAUCGAAGAGCGGCAGAUCCAAGUGCAUGGUCAAAGGCAUCUAGCGAUUUUGCAGAGUUGUCAUAUGGAUCAUAGGCGCAUAGGGCGUGAAGCUGUGGCGGCUUUAGCUACUCAUUCUGCACAUUCAUCAGAAGCUGGUCGUGAAUCCUCAGAGCUUGGUGAGAAGUUGACCAAGAACCAUGCAGUUCUUUUCCCGACUAAGGUCCCGGGUAAUUAAUCCAGCGUGUACCCAACUACAGCGGUGGACAGUCGGGCAGUUAUCGCUAUGUAGUGUAGGGCAAUGAG\n",
      "\n"
     ]
    }
   ],
   "source": [
    "# Sample Dataset -> GATGGAACTTGACTACGTAAATT\n",
    "# Sample Output -> GAUGGAACUUGACUACGUAAAUU\n",
    "\n",
    "file = open('./Problem#2_dataSet.txt', 'r')\n",
    "dnaData = file.read()\n",
    "# dnaData = \"GATGGAACTTGACTACGTAAATT\"\n",
    "dnaData = list(dnaData)\n",
    "for index, element in enumerate(dnaData):\n",
    "    if element ==\"T\":\n",
    "        dnaData[index] = 'U'\n",
    "strRNA = ''.join([(element) for element in dnaData])\n",
    "print(strRNA)\n",
    "\n"
   ]
  },
  {
   "cell_type": "markdown",
   "id": "2180d602",
   "metadata": {},
   "source": [
    "## Problem #3: [Complementing a Strand of DNA](https://rosalind.info/problems/revc/)"
   ]
  },
  {
   "cell_type": "code",
   "execution_count": 4,
   "id": "7e824330",
   "metadata": {},
   "outputs": [
    {
     "name": "stdout",
     "output_type": "stream",
     "text": [
      "\n",
      "CGCCTGAAAAAAACGCGCTGGCTATCTCCGGCCTATATGTTATCAGTGGGGCCTATATCGCCATACTTTTGTCTCGTGAATATGTAGCCGTAACCGAAAAGTACCAGTGGTTCTCTTGGTCTTTGAGTAGGTGAGGAGAGCTCCCGGCCCTTCACGCCCGAGGATCCGGCCAACGAGGCTTTAACACGCTCTTAAAGGATTTTTCGTACAAGCGTTAACTTATTTTTAGTCCCTTCGAGCACTCCAATGAAAGGGTTCAGTGCATTAAGTGTGGTAGGTTGAACAAGACTTGACAACCACCTTATAGTTTCCTCGCAACCATGCGCTCTCCTGTATATTGACCGTCAGTCCGGTCCTCCACGACTTTCTGATATATGTCGCCGCGGCATGTGCCGAGATTGCCATCTAGCGCCACTGGACTCTAAATAACAAATGCTTTAGGCCGGCCAGCCGTCATTCGTCTCCACATAAACGACCACACGGGCTAATGCGCGCTATGCTTAGGCCCTCTTAGGACGTATCAGACTTACGTTCGAAGCCACGAACGACAGTTTGTGCCTCGTCCGAATCCCCGACCGACACCCACCTAGTACGGAATCACCCAGTCATTTCAAGGCCCATTACGTACTCACTATTGTCATCATGCCACACGCAACGTGTACCGATTCTAGGAATACCGGTATTGTGATTTAGTTCGATCCGCTCTGTGCCACTCGTGGCGATTTGGATGATAGCGATACGAAGCATCCCCGGCCCTAAATCCATCGATTTGGGGTTGTCGGGGAGGACCACCGCTAGTGAGAGGTCCGCCATCGCGACCATTATACGTCAAAAGAGCATGTTCAGACGGCTCCTGCCTTAGGCTATATAGCCCGATTCGCATCCCCACATCTGAGAACGTAGCTAGCACAACCCGTATCGACCTCACAAC\n"
     ]
    }
   ],
   "source": [
    "# Sample Dataset -> AAAACCCGGT\n",
    "# Sample Output -> ACCGGGTTTT\n",
    "oppA = 'T'\n",
    "oppT = 'A'\n",
    "oppC = 'G'\n",
    "oppG = 'C'\n",
    "\n",
    "# dnaData = \"AAAACCCGGT\"\n",
    "file = open('./Problem#3_dataSet.txt', 'r')\n",
    "dnaData = file.read()\n",
    "dnaData = list(dnaData)\n",
    "for index, element in enumerate(dnaData):\n",
    "    if element ==\"A\":\n",
    "        dnaData[index] = oppA\n",
    "    elif element == \"T\":\n",
    "        dnaData[index] = oppT\n",
    "    elif element == \"C\":\n",
    "        dnaData[index] = oppC\n",
    "    elif element == \"G\":\n",
    "        dnaData[index] = oppG\n",
    "# reverses dnaData list\n",
    "dnaData.reverse()\n",
    "# creates a new string that joins all the elements of dnaData list\n",
    "strRNA = ''.join([(element) for element in dnaData])\n",
    "print(strRNA)\n",
    "\n",
    "# Reverse string snippet\n",
    "# dnaData1 = dnaData[::-1]\n"
   ]
  },
  {
   "cell_type": "markdown",
   "id": "a908996a",
   "metadata": {},
   "source": [
    "## Problem #4: [Rabbits and Recurrence Relations](https://rosalind.info/problems/fib/)"
   ]
  },
  {
   "cell_type": "code",
   "execution_count": null,
   "id": "a5858aa8",
   "metadata": {},
   "outputs": [],
   "source": []
  },
  {
   "cell_type": "markdown",
   "id": "d22555cd",
   "metadata": {},
   "source": [
    "## Problem #5: [Computing GC Content](https://rosalind.info/problems/gc/)"
   ]
  },
  {
   "cell_type": "code",
   "execution_count": null,
   "id": "ed70462f",
   "metadata": {},
   "outputs": [],
   "source": []
  },
  {
   "cell_type": "markdown",
   "id": "cbfc7ce7",
   "metadata": {},
   "source": [
    "## Problem #6: [Counting Point Mutations](https://rosalind.info/problems/hamm/)"
   ]
  },
  {
   "cell_type": "code",
   "execution_count": null,
   "id": "45516158",
   "metadata": {},
   "outputs": [],
   "source": []
  },
  {
   "cell_type": "markdown",
   "id": "b9e75695",
   "metadata": {},
   "source": [
    "## Problem #7: [Mendel's First Law](https://rosalind.info/problems/iprb/)"
   ]
  },
  {
   "cell_type": "code",
   "execution_count": 5,
   "id": "7ecba48a",
   "metadata": {},
   "outputs": [
    {
     "name": "stdout",
     "output_type": "stream",
     "text": [
      "bye\n"
     ]
    }
   ],
   "source": []
  },
  {
   "cell_type": "code",
   "execution_count": null,
   "id": "dd8af59c",
   "metadata": {},
   "outputs": [],
   "source": []
  }
 ],
 "metadata": {
  "kernelspec": {
   "display_name": "Python 3 (ipykernel)",
   "language": "python",
   "name": "python3"
  },
  "language_info": {
   "codemirror_mode": {
    "name": "ipython",
    "version": 3
   },
   "file_extension": ".py",
   "mimetype": "text/x-python",
   "name": "python",
   "nbconvert_exporter": "python",
   "pygments_lexer": "ipython3",
   "version": "3.8.13"
  },
  "vscode": {
   "interpreter": {
    "hash": "ad1384fea8291bafe0bd5b125c25e2aeda2de4ee5e61d7b1a15dae97d4d188ea"
   }
  }
 },
 "nbformat": 4,
 "nbformat_minor": 5
}
