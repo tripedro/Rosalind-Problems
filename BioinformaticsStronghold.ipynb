{
 "cells": [
  {
   "cell_type": "markdown",
   "id": "c97cc8fd",
   "metadata": {},
   "source": [
    "# Rosalind Stronghold Practice Problems"
   ]
  },
  {
   "cell_type": "markdown",
   "id": "745fe4a7",
   "metadata": {},
   "source": [
    "## Problem #1: [Counting DNA Nucleotides](https://rosalind.info/problems/dna/)"
   ]
  },
  {
   "cell_type": "code",
   "execution_count": 21,
   "id": "49054de2",
   "metadata": {},
   "outputs": [
    {
     "name": "stdout",
     "output_type": "stream",
     "text": [
      "235 247 230 241\n"
     ]
    }
   ],
   "source": [
    "# Sample Dataset -> AGCTTTTCATTCTGACTGCAACGGGCAATATGTCTCTGTGTGGATTAAAAAAAGAGTGTCTGATAGCAGC\n",
    "# Sample Output -> 20 12 17 21\n",
    "\n",
    "file = open('./rosalind_dna.txt', 'r')\n",
    "dnaData = file.read()\n",
    "print(dnaData.count(\"A\"), dnaData.count(\"G\"), dnaData.count(\"C\"), dnaData.count(\"T\"))"
   ]
  }
 ],
 "metadata": {
  "kernelspec": {
   "display_name": "Python 3 (ipykernel)",
   "language": "python",
   "name": "python3"
  },
  "language_info": {
   "codemirror_mode": {
    "name": "ipython",
    "version": 3
   },
   "file_extension": ".py",
   "mimetype": "text/x-python",
   "name": "python",
   "nbconvert_exporter": "python",
   "pygments_lexer": "ipython3",
   "version": "3.8.13"
  }
 },
 "nbformat": 4,
 "nbformat_minor": 5
}
